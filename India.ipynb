{
  "nbformat": 4,
  "nbformat_minor": 0,
  "metadata": {
    "colab": {
      "name": "India.ipynb",
      "provenance": [],
      "collapsed_sections": [],
      "include_colab_link": true
    },
    "kernelspec": {
      "name": "python3",
      "display_name": "Python 3"
    },
    "language_info": {
      "name": "python"
    },
    "gpuClass": "standard",
    "accelerator": "GPU"
  },
  "cells": [
    {
      "cell_type": "markdown",
      "metadata": {
        "id": "view-in-github",
        "colab_type": "text"
      },
      "source": [
        "<a href=\"https://colab.research.google.com/github/aditiwu/AriesCurrencyDetectionProject/blob/main/India.ipynb\" target=\"_parent\"><img src=\"https://colab.research.google.com/assets/colab-badge.svg\" alt=\"Open In Colab\"/></a>"
      ]
    },
    {
      "cell_type": "code",
      "execution_count": null,
      "metadata": {
        "id": "M1Re5uUAqil3"
      },
      "outputs": [],
      "source": [
        "import pandas as pd\n",
        "import numpy as np\n",
        "from sklearn.model_selection import train_test_split\n",
        "from sklearn.metrics import r2_score as r2\n",
        "from sklearn.preprocessing import StandardScaler, MinMaxScaler\n",
        "import os\n",
        "import tensorflow as tf\n",
        "import cv2\n",
        "from tensorflow import keras\n",
        "from keras.layers.core import Dense\n",
        "from tensorflow.keras import datasets, layers, models\n",
        "from tensorflow.keras.layers import LeakyReLU\n",
        "import random\n",
        "from  matplotlib import pyplot as plt\n",
        "import matplotlib.image as mpimg\n",
        "from collections import Counter \n",
        "from keras.callbacks import EarlyStopping\n",
        "\n",
        "\n",
        "from sklearn.preprocessing import LabelBinarizer\n",
        "from sklearn.model_selection import train_test_split\n",
        "from google.colab.patches import cv2_imshow"
      ]
    },
    {
      "cell_type": "code",
      "source": [
        "import PIL\n",
        "from tensorflow.keras.preprocessing.image import ImageDataGenerator\n",
        "import pathlib\n",
        "gen = ImageDataGenerator(rotation_range=10, width_shift_range=0.1, height_shift_range=0.1, shear_range=0.15, zoom_range=0.1, \n",
        "    channel_shift_range=10., horizontal_flip=True)"
      ],
      "metadata": {
        "id": "BtEt2UXGqpt_"
      },
      "execution_count": null,
      "outputs": []
    },
    {
      "cell_type": "code",
      "source": [
        "from google.colab import drive\n",
        "drive.mount('/content/drive')"
      ],
      "metadata": {
        "colab": {
          "base_uri": "https://localhost:8080/"
        },
        "id": "UTE3sVxnqslp",
        "outputId": "bc8b6b07-9874-41f2-b43c-8dd28b905fd9"
      },
      "execution_count": null,
      "outputs": [
        {
          "output_type": "stream",
          "name": "stdout",
          "text": [
            "Mounted at /content/drive\n"
          ]
        }
      ]
    },
    {
      "cell_type": "code",
      "source": [
        "IMG_WIDTH=200\n",
        "IMG_HEIGHT=200"
      ],
      "metadata": {
        "id": "TmB3PYsiqu3B"
      },
      "execution_count": null,
      "outputs": []
    },
    {
      "cell_type": "code",
      "source": [
        "x = []\n",
        "image_path= r'//content//drive//MyDrive//Aries Dataset//USD//1//Image_1.png'                \n",
        "image= cv2.imread(image_path)\n",
        "image = cv2.cvtColor(image, cv2.COLOR_BGR2GRAY)\n",
        "image=cv2.resize(image, (IMG_HEIGHT, IMG_WIDTH),interpolation = cv2.INTER_AREA)\n",
        "image=np.array(image)\n",
        "image = image.astype('float32')\n",
        "image /= 255\n",
        "x.append(image)\n"
      ],
      "metadata": {
        "id": "NmN_eoC5qzmW"
      },
      "execution_count": null,
      "outputs": []
    },
    {
      "cell_type": "code",
      "source": [
        "def create_dataset(img_folder):\n",
        "   \n",
        "    img_data_array=[]\n",
        "    class_name=[]\n",
        "    \n",
        "    for dir1 in os.listdir(img_folder):\n",
        "        for dir2 in os.listdir(os.path.join(img_folder, dir1)):\n",
        "            image_path= os.path.join(img_folder, dir1, dir2)\n",
        "            image= cv2.imread(image_path)\n",
        "            #image = cv2.GaussianBlur(image,(5,5),0)\n",
        "            image = cv2.cvtColor(image, cv2.COLOR_BGR2RGB)\n",
        "            image=cv2.resize(image, (IMG_HEIGHT, IMG_WIDTH),interpolation = cv2.INTER_AREA)\n",
        "            image=np.array(image)\n",
        "            image = image.astype('float32')\n",
        "            image /= 255\n",
        "            img_data_array.append(image)\n",
        "            x[-1]=image\n",
        "            class_name.append(dir1)              \n",
        "                \n",
        "    return img_data_array, class_name\n",
        "# extract the image array and class name\n",
        "img_data, class_name =create_dataset(r'//content//drive//MyDrive//Aries Bad//Indian Currencies')\n"
      ],
      "metadata": {
        "id": "s_N_HUiPq0Ps"
      },
      "execution_count": null,
      "outputs": []
    },
    {
      "cell_type": "code",
      "source": [
        "X_train, X_test, y_train, y_test = train_test_split(img_data,\n",
        "                                                    class_name,\n",
        "                                                    test_size=0.3,\n",
        "                                                    random_state=42)\n",
        "\n",
        "\n",
        "\n",
        "target_dict={k: v for v, k in enumerate(np.unique(y_train))}\n",
        "target_val=  [target_dict[y_train[i]] for i in range(len(y_train))]\n",
        "target_dict1={k: v for v, k in enumerate(np.unique(y_test))}\n",
        "target_val1=  [target_dict[y_test[i]] for i in range(len(y_test))]\n",
        "print(target_dict)"
      ],
      "metadata": {
        "colab": {
          "base_uri": "https://localhost:8080/"
        },
        "id": "23JoSbBjrak-",
        "outputId": "21d363aa-0969-4f89-d3d0-780a8cb13adc"
      },
      "execution_count": null,
      "outputs": [
        {
          "output_type": "stream",
          "name": "stdout",
          "text": [
            "{'10': 0, '100': 1, '20': 2, '200': 3, '2000': 4, '50': 5, '500': 6}\n"
          ]
        }
      ]
    },
    {
      "cell_type": "code",
      "source": [
        "from collections import Counter\n",
        "counter=Counter(target_val)\n",
        "print(counter)"
      ],
      "metadata": {
        "colab": {
          "base_uri": "https://localhost:8080/"
        },
        "id": "05596n3ordwl",
        "outputId": "e4268db6-e70d-47c0-d84d-96be9bd46efd"
      },
      "execution_count": null,
      "outputs": [
        {
          "output_type": "stream",
          "name": "stdout",
          "text": [
            "Counter({0: 143, 6: 100, 4: 98, 2: 93, 5: 88, 3: 83, 1: 79})\n"
          ]
        }
      ]
    },
    {
      "cell_type": "code",
      "source": [
        "data_augmentation = keras.Sequential(\n",
        "  [\n",
        "    layers.experimental.preprocessing.RandomFlip(\"horizontal\", \n",
        "                                                 input_shape=(IMG_HEIGHT, \n",
        "                                                              IMG_WIDTH,\n",
        "                                                              3)),\n",
        "    layers.experimental.preprocessing.RandomRotation(0.1),\n",
        "    layers.experimental.preprocessing.RandomZoom(0.1),\n",
        "  ]\n",
        ")"
      ],
      "metadata": {
        "id": "u9pyRacurfkW"
      },
      "execution_count": null,
      "outputs": []
    },
    {
      "cell_type": "code",
      "source": [
        "!pip install livelossplot==0.1.2"
      ],
      "metadata": {
        "colab": {
          "base_uri": "https://localhost:8080/"
        },
        "id": "3f8jEpYrrkua",
        "outputId": "fe816ea8-578a-43da-8e0d-1278acd063f3"
      },
      "execution_count": null,
      "outputs": [
        {
          "output_type": "stream",
          "name": "stdout",
          "text": [
            "Looking in indexes: https://pypi.org/simple, https://us-python.pkg.dev/colab-wheels/public/simple/\n",
            "Collecting livelossplot==0.1.2\n",
            "  Downloading livelossplot-0.1.2.tar.gz (3.9 kB)\n",
            "Requirement already satisfied: matplotlib in /usr/local/lib/python3.7/dist-packages (from livelossplot==0.1.2) (3.2.2)\n",
            "Requirement already satisfied: notebook in /usr/local/lib/python3.7/dist-packages (from livelossplot==0.1.2) (5.3.1)\n",
            "Requirement already satisfied: kiwisolver>=1.0.1 in /usr/local/lib/python3.7/dist-packages (from matplotlib->livelossplot==0.1.2) (1.4.3)\n",
            "Requirement already satisfied: cycler>=0.10 in /usr/local/lib/python3.7/dist-packages (from matplotlib->livelossplot==0.1.2) (0.11.0)\n",
            "Requirement already satisfied: python-dateutil>=2.1 in /usr/local/lib/python3.7/dist-packages (from matplotlib->livelossplot==0.1.2) (2.8.2)\n",
            "Requirement already satisfied: pyparsing!=2.0.4,!=2.1.2,!=2.1.6,>=2.0.1 in /usr/local/lib/python3.7/dist-packages (from matplotlib->livelossplot==0.1.2) (3.0.9)\n",
            "Requirement already satisfied: numpy>=1.11 in /usr/local/lib/python3.7/dist-packages (from matplotlib->livelossplot==0.1.2) (1.21.6)\n",
            "Requirement already satisfied: typing-extensions in /usr/local/lib/python3.7/dist-packages (from kiwisolver>=1.0.1->matplotlib->livelossplot==0.1.2) (4.1.1)\n",
            "Requirement already satisfied: six>=1.5 in /usr/local/lib/python3.7/dist-packages (from python-dateutil>=2.1->matplotlib->livelossplot==0.1.2) (1.15.0)\n",
            "Requirement already satisfied: Send2Trash in /usr/local/lib/python3.7/dist-packages (from notebook->livelossplot==0.1.2) (1.8.0)\n",
            "Requirement already satisfied: jupyter-client>=5.2.0 in /usr/local/lib/python3.7/dist-packages (from notebook->livelossplot==0.1.2) (5.3.5)\n",
            "Requirement already satisfied: nbformat in /usr/local/lib/python3.7/dist-packages (from notebook->livelossplot==0.1.2) (5.4.0)\n",
            "Requirement already satisfied: traitlets>=4.2.1 in /usr/local/lib/python3.7/dist-packages (from notebook->livelossplot==0.1.2) (5.1.1)\n",
            "Requirement already satisfied: nbconvert in /usr/local/lib/python3.7/dist-packages (from notebook->livelossplot==0.1.2) (5.6.1)\n",
            "Requirement already satisfied: ipykernel in /usr/local/lib/python3.7/dist-packages (from notebook->livelossplot==0.1.2) (4.10.1)\n",
            "Requirement already satisfied: jupyter-core>=4.4.0 in /usr/local/lib/python3.7/dist-packages (from notebook->livelossplot==0.1.2) (4.10.0)\n",
            "Requirement already satisfied: terminado>=0.8.1 in /usr/local/lib/python3.7/dist-packages (from notebook->livelossplot==0.1.2) (0.13.3)\n",
            "Requirement already satisfied: ipython-genutils in /usr/local/lib/python3.7/dist-packages (from notebook->livelossplot==0.1.2) (0.2.0)\n",
            "Requirement already satisfied: tornado>=4 in /usr/local/lib/python3.7/dist-packages (from notebook->livelossplot==0.1.2) (5.1.1)\n",
            "Requirement already satisfied: jinja2 in /usr/local/lib/python3.7/dist-packages (from notebook->livelossplot==0.1.2) (2.11.3)\n",
            "Requirement already satisfied: pyzmq>=13 in /usr/local/lib/python3.7/dist-packages (from jupyter-client>=5.2.0->notebook->livelossplot==0.1.2) (23.1.0)\n",
            "Requirement already satisfied: ptyprocess in /usr/local/lib/python3.7/dist-packages (from terminado>=0.8.1->notebook->livelossplot==0.1.2) (0.7.0)\n",
            "Requirement already satisfied: ipython>=4.0.0 in /usr/local/lib/python3.7/dist-packages (from ipykernel->notebook->livelossplot==0.1.2) (5.5.0)\n",
            "Requirement already satisfied: pickleshare in /usr/local/lib/python3.7/dist-packages (from ipython>=4.0.0->ipykernel->notebook->livelossplot==0.1.2) (0.7.5)\n",
            "Requirement already satisfied: prompt-toolkit<2.0.0,>=1.0.4 in /usr/local/lib/python3.7/dist-packages (from ipython>=4.0.0->ipykernel->notebook->livelossplot==0.1.2) (1.0.18)\n",
            "Requirement already satisfied: pexpect in /usr/local/lib/python3.7/dist-packages (from ipython>=4.0.0->ipykernel->notebook->livelossplot==0.1.2) (4.8.0)\n",
            "Requirement already satisfied: simplegeneric>0.8 in /usr/local/lib/python3.7/dist-packages (from ipython>=4.0.0->ipykernel->notebook->livelossplot==0.1.2) (0.8.1)\n",
            "Requirement already satisfied: setuptools>=18.5 in /usr/local/lib/python3.7/dist-packages (from ipython>=4.0.0->ipykernel->notebook->livelossplot==0.1.2) (57.4.0)\n",
            "Requirement already satisfied: pygments in /usr/local/lib/python3.7/dist-packages (from ipython>=4.0.0->ipykernel->notebook->livelossplot==0.1.2) (2.6.1)\n",
            "Requirement already satisfied: decorator in /usr/local/lib/python3.7/dist-packages (from ipython>=4.0.0->ipykernel->notebook->livelossplot==0.1.2) (4.4.2)\n",
            "Requirement already satisfied: wcwidth in /usr/local/lib/python3.7/dist-packages (from prompt-toolkit<2.0.0,>=1.0.4->ipython>=4.0.0->ipykernel->notebook->livelossplot==0.1.2) (0.2.5)\n",
            "Requirement already satisfied: MarkupSafe>=0.23 in /usr/local/lib/python3.7/dist-packages (from jinja2->notebook->livelossplot==0.1.2) (2.0.1)\n",
            "Requirement already satisfied: entrypoints>=0.2.2 in /usr/local/lib/python3.7/dist-packages (from nbconvert->notebook->livelossplot==0.1.2) (0.4)\n",
            "Requirement already satisfied: bleach in /usr/local/lib/python3.7/dist-packages (from nbconvert->notebook->livelossplot==0.1.2) (5.0.0)\n",
            "Requirement already satisfied: testpath in /usr/local/lib/python3.7/dist-packages (from nbconvert->notebook->livelossplot==0.1.2) (0.6.0)\n",
            "Requirement already satisfied: pandocfilters>=1.4.1 in /usr/local/lib/python3.7/dist-packages (from nbconvert->notebook->livelossplot==0.1.2) (1.5.0)\n",
            "Requirement already satisfied: defusedxml in /usr/local/lib/python3.7/dist-packages (from nbconvert->notebook->livelossplot==0.1.2) (0.7.1)\n",
            "Requirement already satisfied: mistune<2,>=0.8.1 in /usr/local/lib/python3.7/dist-packages (from nbconvert->notebook->livelossplot==0.1.2) (0.8.4)\n",
            "Requirement already satisfied: fastjsonschema in /usr/local/lib/python3.7/dist-packages (from nbformat->notebook->livelossplot==0.1.2) (2.15.3)\n",
            "Requirement already satisfied: jsonschema>=2.6 in /usr/local/lib/python3.7/dist-packages (from nbformat->notebook->livelossplot==0.1.2) (4.3.3)\n",
            "Requirement already satisfied: attrs>=17.4.0 in /usr/local/lib/python3.7/dist-packages (from jsonschema>=2.6->nbformat->notebook->livelossplot==0.1.2) (21.4.0)\n",
            "Requirement already satisfied: importlib-metadata in /usr/local/lib/python3.7/dist-packages (from jsonschema>=2.6->nbformat->notebook->livelossplot==0.1.2) (4.11.4)\n",
            "Requirement already satisfied: importlib-resources>=1.4.0 in /usr/local/lib/python3.7/dist-packages (from jsonschema>=2.6->nbformat->notebook->livelossplot==0.1.2) (5.7.1)\n",
            "Requirement already satisfied: pyrsistent!=0.17.0,!=0.17.1,!=0.17.2,>=0.14.0 in /usr/local/lib/python3.7/dist-packages (from jsonschema>=2.6->nbformat->notebook->livelossplot==0.1.2) (0.18.1)\n",
            "Requirement already satisfied: zipp>=3.1.0 in /usr/local/lib/python3.7/dist-packages (from importlib-resources>=1.4.0->jsonschema>=2.6->nbformat->notebook->livelossplot==0.1.2) (3.8.0)\n",
            "Requirement already satisfied: webencodings in /usr/local/lib/python3.7/dist-packages (from bleach->nbconvert->notebook->livelossplot==0.1.2) (0.5.1)\n",
            "Building wheels for collected packages: livelossplot\n",
            "  Building wheel for livelossplot (setup.py) ... \u001b[?25l\u001b[?25hdone\n",
            "  Created wheel for livelossplot: filename=livelossplot-0.1.2-py3-none-any.whl size=3828 sha256=92db17f2038a0b171fbb2e3323692d21bc06fabaa28bb3d93a663c4777fca508\n",
            "  Stored in directory: /root/.cache/pip/wheels/d8/78/c7/7d1e3952810ddf926b4d4dbf536a52e7b6821bd54b6f6a84a8\n",
            "Successfully built livelossplot\n",
            "Installing collected packages: livelossplot\n",
            "Successfully installed livelossplot-0.1.2\n"
          ]
        }
      ]
    },
    {
      "cell_type": "code",
      "source": [
        "from keras.callbacks import EarlyStopping\n",
        "\n",
        "\n",
        "from sklearn.preprocessing import LabelBinarizer\n",
        "from sklearn.model_selection import train_test_split\n",
        "from livelossplot import PlotLossesKeras"
      ],
      "metadata": {
        "id": "3YV54bzxrlTk"
      },
      "execution_count": null,
      "outputs": []
    },
    {
      "cell_type": "code",
      "source": [
        "model = models.Sequential()\n",
        "model.add(data_augmentation)\n",
        "model.add(layers.Conv2D(32, (3, 3) , activation='relu', input_shape=(200, 200, 3)))\n",
        "model.add(layers.MaxPooling2D((2, 2)))\n",
        "#model.add(layers.Conv2D(32, (3, 3), activation='relu'))\n",
        "#model.add(layers.MaxPooling2D((2, 2)))\n",
        "model.add(layers.Conv2D(32, (3, 3), activation='relu'))\n",
        "model.add(layers.MaxPooling2D((2, 2)))\n",
        "model.add(layers.Conv2D(64, (3, 3), activation='relu'))\n",
        "model.add(layers.Flatten())\n",
        "model.add(layers.Dense(128, activation='relu'))\n",
        "model.add(layers.Dense(7))\n",
        "\n",
        "model.compile(optimizer='adam',\n",
        "              loss=tf.keras.losses.SparseCategoricalCrossentropy(from_logits=True),\n",
        "              metrics=['accuracy'])\n",
        "callback = EarlyStopping(monitor='loss', patience=3)\n",
        "history = model.fit(x=np.array(X_train, np.float32), y=np.array(list(map(int,target_val)), np.float32), epochs=1000000, callbacks=[callback])\n",
        "\n"
      ],
      "metadata": {
        "colab": {
          "base_uri": "https://localhost:8080/"
        },
        "id": "Msm4H6Jbrmor",
        "outputId": "23f92e88-0c0d-4375-8de7-49d8ae3e67f8"
      },
      "execution_count": null,
      "outputs": [
        {
          "output_type": "stream",
          "name": "stdout",
          "text": [
            "Epoch 1/1000000\n",
            "22/22 [==============================] - 2s 41ms/step - loss: 2.3379 - accuracy: 0.1711\n",
            "Epoch 2/1000000\n",
            "22/22 [==============================] - 1s 39ms/step - loss: 1.9380 - accuracy: 0.1974\n",
            "Epoch 3/1000000\n",
            "22/22 [==============================] - 1s 39ms/step - loss: 1.8702 - accuracy: 0.2325\n",
            "Epoch 4/1000000\n",
            "22/22 [==============================] - 1s 39ms/step - loss: 1.7444 - accuracy: 0.2675\n",
            "Epoch 5/1000000\n",
            "22/22 [==============================] - 1s 39ms/step - loss: 1.6875 - accuracy: 0.3173\n",
            "Epoch 6/1000000\n",
            "22/22 [==============================] - 1s 40ms/step - loss: 1.6351 - accuracy: 0.3392\n",
            "Epoch 7/1000000\n",
            "22/22 [==============================] - 1s 40ms/step - loss: 1.5177 - accuracy: 0.3962\n",
            "Epoch 8/1000000\n",
            "22/22 [==============================] - 1s 40ms/step - loss: 1.4484 - accuracy: 0.4050\n",
            "Epoch 9/1000000\n",
            "22/22 [==============================] - 1s 39ms/step - loss: 1.3237 - accuracy: 0.4503\n",
            "Epoch 10/1000000\n",
            "22/22 [==============================] - 1s 38ms/step - loss: 1.1424 - accuracy: 0.5365\n",
            "Epoch 11/1000000\n",
            "22/22 [==============================] - 1s 39ms/step - loss: 1.1307 - accuracy: 0.5585\n",
            "Epoch 12/1000000\n",
            "22/22 [==============================] - 1s 39ms/step - loss: 1.0786 - accuracy: 0.5789\n",
            "Epoch 13/1000000\n",
            "22/22 [==============================] - 1s 39ms/step - loss: 1.0365 - accuracy: 0.5863\n",
            "Epoch 14/1000000\n",
            "22/22 [==============================] - 1s 39ms/step - loss: 1.0204 - accuracy: 0.6126\n",
            "Epoch 15/1000000\n",
            "22/22 [==============================] - 1s 39ms/step - loss: 0.9899 - accuracy: 0.6301\n",
            "Epoch 16/1000000\n",
            "22/22 [==============================] - 1s 39ms/step - loss: 0.7368 - accuracy: 0.7208\n",
            "Epoch 17/1000000\n",
            "22/22 [==============================] - 1s 40ms/step - loss: 0.6751 - accuracy: 0.7427\n",
            "Epoch 18/1000000\n",
            "22/22 [==============================] - 1s 39ms/step - loss: 0.6988 - accuracy: 0.7339\n",
            "Epoch 19/1000000\n",
            "22/22 [==============================] - 1s 39ms/step - loss: 0.6449 - accuracy: 0.7500\n",
            "Epoch 20/1000000\n",
            "22/22 [==============================] - 1s 39ms/step - loss: 0.6920 - accuracy: 0.7251\n",
            "Epoch 21/1000000\n",
            "22/22 [==============================] - 1s 39ms/step - loss: 0.5665 - accuracy: 0.7865\n",
            "Epoch 22/1000000\n",
            "22/22 [==============================] - 1s 40ms/step - loss: 0.4370 - accuracy: 0.8304\n",
            "Epoch 23/1000000\n",
            "22/22 [==============================] - 1s 40ms/step - loss: 0.4560 - accuracy: 0.8173\n",
            "Epoch 24/1000000\n",
            "22/22 [==============================] - 1s 39ms/step - loss: 0.4814 - accuracy: 0.8275\n",
            "Epoch 25/1000000\n",
            "22/22 [==============================] - 1s 39ms/step - loss: 0.3395 - accuracy: 0.8933\n",
            "Epoch 26/1000000\n",
            "22/22 [==============================] - 1s 39ms/step - loss: 0.3131 - accuracy: 0.9035\n",
            "Epoch 27/1000000\n",
            "22/22 [==============================] - 1s 39ms/step - loss: 0.3028 - accuracy: 0.8860\n",
            "Epoch 28/1000000\n",
            "22/22 [==============================] - 1s 39ms/step - loss: 0.3207 - accuracy: 0.8787\n",
            "Epoch 29/1000000\n",
            "22/22 [==============================] - 1s 39ms/step - loss: 0.2923 - accuracy: 0.9050\n",
            "Epoch 30/1000000\n",
            "22/22 [==============================] - 1s 39ms/step - loss: 0.2449 - accuracy: 0.9123\n",
            "Epoch 31/1000000\n",
            "22/22 [==============================] - 1s 40ms/step - loss: 0.1812 - accuracy: 0.9254\n",
            "Epoch 32/1000000\n",
            "22/22 [==============================] - 1s 39ms/step - loss: 0.1675 - accuracy: 0.9430\n",
            "Epoch 33/1000000\n",
            "22/22 [==============================] - 1s 39ms/step - loss: 0.1940 - accuracy: 0.9269\n",
            "Epoch 34/1000000\n",
            "22/22 [==============================] - 1s 39ms/step - loss: 0.1925 - accuracy: 0.9415\n",
            "Epoch 35/1000000\n",
            "22/22 [==============================] - 1s 40ms/step - loss: 0.2417 - accuracy: 0.9152\n"
          ]
        }
      ]
    },
    {
      "cell_type": "code",
      "source": [
        "test_loss, test_acc = model.evaluate(np.array(X_test, np.float32), np.array(list(map(int,target_val1))))\n",
        "print('\\nTest accuracy: {}'.format(test_acc))\n",
        "model.save(r'//content//drive//MyDrive//India_sample_save')"
      ],
      "metadata": {
        "colab": {
          "base_uri": "https://localhost:8080/"
        },
        "id": "knrb_KmartQH",
        "outputId": "53a3d63b-eda4-4b2c-f564-037bf07c16a0"
      },
      "execution_count": null,
      "outputs": [
        {
          "output_type": "stream",
          "name": "stdout",
          "text": [
            "10/10 [==============================] - 0s 19ms/step - loss: 0.4776 - accuracy: 0.8605\n",
            "\n",
            "Test accuracy: 0.8605442047119141\n",
            "INFO:tensorflow:Assets written to: //content//drive//MyDrive//India_sample_save/assets\n"
          ]
        }
      ]
    }
  ]
}