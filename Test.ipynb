{
  "nbformat": 4,
  "nbformat_minor": 0,
  "metadata": {
    "colab": {
      "name": "Test.ipynb",
      "provenance": [],
      "include_colab_link": true
    },
    "kernelspec": {
      "name": "python3",
      "display_name": "Python 3"
    },
    "language_info": {
      "name": "python"
    }
  },
  "cells": [
    {
      "cell_type": "markdown",
      "metadata": {
        "id": "view-in-github",
        "colab_type": "text"
      },
      "source": [
        "<a href=\"https://colab.research.google.com/github/aditiwu/AriesCurrencyDetectionProject/blob/main/Test.ipynb\" target=\"_parent\"><img src=\"https://colab.research.google.com/assets/colab-badge.svg\" alt=\"Open In Colab\"/></a>"
      ]
    },
    {
      "cell_type": "code",
      "execution_count": null,
      "metadata": {
        "id": "8X1i5Ccm2C01"
      },
      "outputs": [],
      "source": [
        "import cv2\n",
        "import tensorflow as tf\n",
        "import numpy as np\n",
        "import os"
      ]
    },
    {
      "cell_type": "code",
      "source": [
        "def prepare(filepath):\n",
        "    IMG_SIZE = 200  # 50 in txt-based\n",
        "    image = cv2.imread(filepath, cv2.COLOR_BGR2GRAY)\n",
        "    # read in the image, convert to grayscale\n",
        "    image=cv2.resize(image, (200, 200),interpolation = cv2.INTER_AREA)\n",
        "    image=np.array(image)\n",
        "    image = image.astype('float32')\n",
        "    image /= 255 # resize image to match model's expected sizing\n",
        "    return image\n",
        "\n",
        "def prepare1(filepath):\n",
        "    IMG_SIZE = 200  # 50 in txt-based\n",
        "    image = cv2.imread(filepath, cv2.COLOR_BGR2RGB)\n",
        "    # read in the image, convert to grayscale\n",
        "    image=cv2.resize(image, (200, 200),interpolation = cv2.INTER_AREA)\n",
        "    image=np.array(image)\n",
        "    image = image.astype('float32')\n",
        "    image /= 255 # resize image to match model's expected sizing\n",
        "    return image"
      ],
      "metadata": {
        "id": "MIUEB80n2K-R"
      },
      "execution_count": null,
      "outputs": []
    },
    {
      "cell_type": "code",
      "source": [
        "from google.colab import drive\n",
        "drive.mount('/content/drive')"
      ],
      "metadata": {
        "colab": {
          "base_uri": "https://localhost:8080/"
        },
        "id": "yVcaGc2rlFSm",
        "outputId": "8e3a55ba-9656-42c2-8031-7b05eff3660b"
      },
      "execution_count": null,
      "outputs": [
        {
          "output_type": "stream",
          "name": "stdout",
          "text": [
            "Mounted at /content/drive\n"
          ]
        }
      ]
    },
    {
      "cell_type": "code",
      "source": [
        "INDIA = ['10', '100', '2000', '50', '100', '200', '500']\n",
        "DENO = ['10', '100', '20', '200', '2000', '50', '500']\n",
        "COUNTRY = ['Australian dollar', 'Euro', 'Hong Kong dollar-sorted', 'Indian Currencies', 'Malaysian ringgit', 'NZD', 'Philippine peso-sorted', 'Polish złoty', 'Pound Sterling-sorted', 'Russian Ruble-sorted', 'SEK', 'SKW', 'USD', 'YEN', 'singapore dollar', 'thai baht', 'turkish lira']"
      ],
      "metadata": {
        "id": "_oiq7Ao24P5J"
      },
      "execution_count": null,
      "outputs": []
    },
    {
      "cell_type": "code",
      "source": [
        "model_India = tf.keras.models.load_model(r'//content//drive//MyDrive//India_sample_save', compile=True)\n",
        "model_Deno = tf.keras.models.load_model(r'//content//drive//MyDrive//Deno_sample_save', compile=True)\n",
        "model_Country = tf.keras.models.load_model(r'//content//drive//MyDrive//Countries_sample_save', compile=True)"
      ],
      "metadata": {
        "id": "kVwY8UPc2VKh"
      },
      "execution_count": null,
      "outputs": []
    },
    {
      "cell_type": "code",
      "source": [
        "path = r'//content//drive//MyDrive//Aries Dataset'\n",
        "dict1 = {'Australian dollar': 0, 'Euro': 1, 'Hong Kong dollar-sorted': 2, 'Indian Currencies': 3, 'Malaysian ringgit': 4, 'NZD': 5, 'Philippine peso-sorted': 6, 'Polish złoty': 7, 'Pound Sterling-sorted': 8, 'Russian Ruble-sorted': 9, 'SEK': 10, 'SKW': 11, 'USD': 12, 'YEN': 13, 'singapore dollar': 14, 'thai baht': 15, 'turkish lira': 16}\n",
        "d1={}\n",
        "for file in os.listdir(path):\n",
        "  x = []\n",
        "  for file1 in os.listdir(os.path.join(path, file)):\n",
        "     x.append(file1)\n",
        "  d1[dict1[file]] = x \n",
        "print (d1)"
      ],
      "metadata": {
        "colab": {
          "base_uri": "https://localhost:8080/"
        },
        "id": "77qOY2dni2Eq",
        "outputId": "6e0923d1-5ea2-426f-81af-d806fd82876b"
      },
      "execution_count": null,
      "outputs": [
        {
          "output_type": "stream",
          "name": "stdout",
          "text": [
            "{12: ['1', '5', '10', '20', '50', '100'], 1: ['5', '10', '50', '100', '200'], 0: ['5', '10', '20', '50', '100'], 4: ['1', '5', '10', '20', '50', '100'], 7: ['10', '20', '100', '200'], 14: ['5', '10', '50', '100', '500'], 15: ['50', '100', '500', '1000'], 16: ['5', '10', '20', '50', '100'], 13: ['1000', '5000', '10000'], 5: ['5', '20', '50', '100'], 10: ['20', '50', '100', '500'], 11: ['1000', '5000', '10000'], 2: ['10', '20', '50', '100', '500', '1000'], 6: ['1000', '20', '500', '50', '100', '200'], 8: ['5', '10', '20', '50'], 9: ['5', '10', '50', '100', '200', '500', '1000', '5000']}\n"
          ]
        }
      ]
    },
    {
      "cell_type": "code",
      "source": [
        "deno1 = {'1': 0, '10': 1, '100': 2, '1000': 3, '10000': 4, '20': 5, '200': 6, '5': 7, '50': 8, '500': 9, '5000': 10}"
      ],
      "metadata": {
        "id": "NbBFAlTvno20"
      },
      "execution_count": null,
      "outputs": []
    },
    {
      "cell_type": "code",
      "source": [
        "def predictions(img_path):    \n",
        "    prediction1 = model_Country.predict(np.array([prepare(img_path)], np.float32))\n",
        "    high = np.argmax(prediction1)\n",
        "    c = COUNTRY[high]\n",
        "    print (\"Country is: \"+c)\n",
        "    if (high==3):\n",
        "        prediction = model_India.predict(np.array([prepare1(img_path)], np.float32))\n",
        "        high1 = np.argmax(prediction1)\n",
        "        d = INDIA[high1]\n",
        "    else:\n",
        "        prediction = model_Deno.predict(np.array([prepare(img_path)], np.float32))\n",
        "        high1 = np.argmax(prediction)\n",
        "        x = -1000000\n",
        "        for t in d1[high]:\n",
        "            if(prediction[deno1[t]]>=x):\n",
        "              d = t\n",
        "              x= prediction[deno1[t]]\n",
        "    print(\"Denomination is: \"+d)"
      ],
      "metadata": {
        "id": "TuyrHH8L4wKP"
      },
      "execution_count": null,
      "outputs": []
    }
  ]
}