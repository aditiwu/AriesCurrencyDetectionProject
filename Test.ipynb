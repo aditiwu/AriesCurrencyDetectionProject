{
  "nbformat": 4,
  "nbformat_minor": 0,
  "metadata": {
    "colab": {
      "name": "Test.ipynb",
      "provenance": [],
      "include_colab_link": true
    },
    "kernelspec": {
      "name": "python3",
      "display_name": "Python 3"
    },
    "language_info": {
      "name": "python"
    },
    "gpuClass": "standard"
  },
  "cells": [
    {
      "cell_type": "markdown",
      "metadata": {
        "id": "view-in-github",
        "colab_type": "text"
      },
      "source": [
        "<a href=\"https://colab.research.google.com/github/aditiwu/AriesCurrencyDetectionProject/blob/main/Test.ipynb\" target=\"_parent\"><img src=\"https://colab.research.google.com/assets/colab-badge.svg\" alt=\"Open In Colab\"/></a>"
      ]
    },
    {
      "cell_type": "code",
      "execution_count": 1,
      "metadata": {
        "id": "8X1i5Ccm2C01"
      },
      "outputs": [],
      "source": [
        "import cv2\n",
        "import tensorflow as tf\n",
        "import numpy as np\n",
        "import os"
      ]
    },
    {
      "cell_type": "code",
      "source": [
        "def prepare(filepath):\n",
        "    IMG_SIZE = 200  # 50 in txt-based\n",
        "    image = cv2.imread(filepath)\n",
        "    image = cv2.cvtColor(image, cv2.COLOR_BGR2GRAY)\n",
        "    # read in the image, convert to grayscale\n",
        "    image=cv2.resize(image, (200, 200),interpolation = cv2.INTER_AREA)\n",
        "    image=np.array(image)\n",
        "    image = image.astype('float32')\n",
        "    image /= 255 # resize image to match model's expected sizing\n",
        "    return image\n",
        "\n",
        "def prepare1(filepath):\n",
        "    IMG_SIZE = 200  # 50 in txt-based\n",
        "    image = cv2.imread(filepath)\n",
        "    image = cv2.cvtColor(image, cv2.COLOR_BGR2RGB)\n",
        "    # read in the image, convert to grayscale\n",
        "    image=cv2.resize(image, (200, 200),interpolation = cv2.INTER_AREA)\n",
        "    image=np.array(image)\n",
        "    image = image.astype('float32')\n",
        "    image /= 255 # resize image to match model's expected sizing\n",
        "    return image"
      ],
      "metadata": {
        "id": "MIUEB80n2K-R"
      },
      "execution_count": 72,
      "outputs": []
    },
    {
      "cell_type": "code",
      "source": [
        "from google.colab import drive\n",
        "drive.mount('/content/drive')"
      ],
      "metadata": {
        "colab": {
          "base_uri": "https://localhost:8080/"
        },
        "id": "yVcaGc2rlFSm",
        "outputId": "320c3d7b-c52c-44a7-cc7a-336965b42255"
      },
      "execution_count": 3,
      "outputs": [
        {
          "output_type": "stream",
          "name": "stdout",
          "text": [
            "Mounted at /content/drive\n"
          ]
        }
      ]
    },
    {
      "cell_type": "code",
      "source": [
        "INDIA = ['10', '100', '20', '200', '2000', '50', '500']\n",
        "DENO = ['10', '100', '20', '200', '2000', '50', '500']\n",
        "COUNTRY = ['Australian dollar', 'Euro', 'Hong Kong dollar-sorted', 'Indian Currencies', 'Malaysian ringgit', 'NZD', 'Philippine peso-sorted', 'Polish złoty', 'Pound Sterling-sorted', 'Russian Ruble-sorted', 'SEK', 'SKW', 'USD', 'YEN', 'singapore dollar', 'thai baht', 'turkish lira']"
      ],
      "metadata": {
        "id": "_oiq7Ao24P5J"
      },
      "execution_count": 71,
      "outputs": []
    },
    {
      "cell_type": "code",
      "source": [
        "model_India = tf.keras.models.load_model(r'//content//drive//MyDrive//India_sample_save', compile=True)\n",
        "model_Deno = tf.keras.models.load_model(r'//content//drive//MyDrive//Deno_sample_save', compile=True)\n",
        "model_Country = tf.keras.models.load_model(r'//content//drive//MyDrive//Countries_sample_save', compile=True)"
      ],
      "metadata": {
        "id": "kVwY8UPc2VKh"
      },
      "execution_count": 5,
      "outputs": []
    },
    {
      "cell_type": "code",
      "source": [
        "path = r'//content//drive//MyDrive//Aries Dataset'\n",
        "dict1 = {'Australian dollar': 0, 'Euro': 1, 'Hong Kong dollar-sorted': 2, 'Indian Currencies': 3, 'Malaysian ringgit': 4, 'NZD': 5, 'Philippine peso-sorted': 6, 'Polish złoty': 7, 'Pound Sterling-sorted': 8, 'Russian Ruble-sorted': 9, 'SEK': 10, 'SKW': 11, 'USD': 12, 'YEN': 13, 'singapore dollar': 14, 'thai baht': 15, 'turkish lira': 16}\n",
        "d1={}\n",
        "for file in os.listdir(path):\n",
        "  x = []\n",
        "  for file1 in os.listdir(os.path.join(path, file)):\n",
        "     x.append(file1)\n",
        "  d1[dict1[file]] = x \n",
        "print (d1)"
      ],
      "metadata": {
        "colab": {
          "base_uri": "https://localhost:8080/"
        },
        "id": "77qOY2dni2Eq",
        "outputId": "092c6b6a-8ac8-436a-be65-d35ac761fd99"
      },
      "execution_count": 6,
      "outputs": [
        {
          "output_type": "stream",
          "name": "stdout",
          "text": [
            "{12: ['1', '5', '10', '20', '50', '100'], 1: ['5', '10', '50', '100', '200'], 0: ['5', '10', '20', '50', '100'], 4: ['1', '5', '10', '20', '50', '100'], 7: ['10', '20', '100', '200'], 14: ['5', '10', '50', '100', '500'], 15: ['50', '100', '500', '1000'], 16: ['5', '10', '20', '50', '100'], 13: ['1000', '5000', '10000'], 5: ['5', '20', '50', '100'], 10: ['20', '50', '100', '500'], 11: ['1000', '5000', '10000'], 2: ['10', '20', '50', '100', '500', '1000'], 6: ['1000', '20', '500', '50', '100', '200'], 8: ['5', '10', '20', '50'], 9: ['5', '10', '50', '100', '200', '500', '1000', '5000']}\n"
          ]
        }
      ]
    },
    {
      "cell_type": "code",
      "source": [
        "deno1 = {'1': 0, '10': 1, '100': 2, '1000': 3, '10000': 4, '20': 5, '200': 6, '5': 7, '50': 8, '500': 9, '5000': 10}"
      ],
      "metadata": {
        "id": "NbBFAlTvno20"
      },
      "execution_count": 7,
      "outputs": []
    },
    {
      "cell_type": "code",
      "source": [
        "def predictions(img_path):    \n",
        "    prediction1 = model_Country.predict(np.array([prepare(img_path)], np.float32))\n",
        "    high = np.argmax(prediction1)\n",
        "    c = COUNTRY[high]\n",
        "    print (\"Country is: \"+c)\n",
        "    if (high==3):\n",
        "        prediction = model_India.predict(np.array([prepare1(img_path)], np.float32))\n",
        "        high1 = np.argmax(prediction)\n",
        "        d = INDIA[high1]\n",
        "    else:\n",
        "        prediction = model_Deno.predict(np.array([prepare(img_path)], np.float32))\n",
        "        high1 = np.argmax(prediction)\n",
        "        x = -1000000\n",
        "        \n",
        "        for t in d1[high]:\n",
        "            if(prediction[0][deno1[t]]>=x):\n",
        "              d = t\n",
        "              x= prediction[0][deno1[t]]\n",
        "    print(\"Denomination is: \"+d)"
      ],
      "metadata": {
        "id": "TuyrHH8L4wKP"
      },
      "execution_count": 62,
      "outputs": []
    },
    {
      "cell_type": "code",
      "source": [
        "predictions(r'//content//drive//MyDrive//Aries Bad//Indian Currencies//100//INDIA100NEW_50.jpg')\n",
        "predictions(r'//content//drive//MyDrive//Aries Bad//Indian Currencies//10//35.jpg')\n",
        "predictions(r'//content//drive//MyDrive//Aries Bad//Indian Currencies//200//INDIA200_54.jpg')\n",
        "predictions(r'//content//drive//MyDrive//Aries Bad//Indian Currencies//50//INDIA50NEW_121.jpg')\n",
        "predictions(r'//content//drive//MyDrive//Aries Bad//Indian Currencies//500//INDIA500_59.jpg')\n",
        "predictions(r'//content//drive//MyDrive//Aries Bad//Indian Currencies//2000//INDIA2000_67.jpg')\n",
        "predictions(r'//content//drive//MyDrive//Aries Bad//Indian Currencies//20//INDIA20_116.jpg')\n",
        "\n",
        "predictions(r'//content//drive//MyDrive//Aries Dataset//Euro//10//Image_11.jpg')"
      ],
      "metadata": {
        "colab": {
          "base_uri": "https://localhost:8080/"
        },
        "id": "M8DvVo1OlIDN",
        "outputId": "d55f1db4-9e96-4b99-d129-2b237d94e6bd"
      },
      "execution_count": 74,
      "outputs": [
        {
          "output_type": "stream",
          "name": "stdout",
          "text": [
            "Country is: Indian Currencies\n",
            "Denomination is: 100\n",
            "Country is: Indian Currencies\n",
            "Denomination is: 10\n",
            "Country is: Indian Currencies\n",
            "Denomination is: 200\n",
            "Country is: Indian Currencies\n",
            "Denomination is: 50\n",
            "Country is: Indian Currencies\n",
            "Denomination is: 500\n",
            "Country is: Indian Currencies\n",
            "Denomination is: 2000\n",
            "Country is: Indian Currencies\n",
            "Denomination is: 20\n",
            "Country is: Euro\n",
            "Denomination is: 10\n"
          ]
        }
      ]
    }
  ]
}